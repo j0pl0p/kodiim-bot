{
  "nbformat": 4,
  "nbformat_minor": 0,
  "metadata": {
    "colab": {
      "provenance": []
    },
    "kernelspec": {
      "name": "python3",
      "display_name": "Python 3"
    },
    "language_info": {
      "name": "python"
    }
  },
  "cells": [
    {
      "cell_type": "code",
      "execution_count": 1,
      "metadata": {
        "id": "T_52cyi68jpJ"
      },
      "outputs": [],
      "source": [
        "import math\n",
        "import torch.nn as nn\n",
        "import torch.nn.functional as F"
      ]
    },
    {
      "cell_type": "code",
      "source": [
        "class Net(nn.Module):\n",
        "   def __init__(self):\n",
        "     super(Net, self).__init__()\n",
        "     self.fc1 = nn.Linear(28 * 28, 200)\n",
        "     self.fc2 = nn.Linear(200, 200)\n",
        "     self.fc3 = nn.Linear(200, 10)\n",
        "    \n",
        "   def forward(self, x):\n",
        "     x = F.relu(self.fc1(x))\n",
        "     x = F.relu(self.fc2(x))\n",
        "     x = self.fc3(x)\n",
        "     return F.log_softmax(x)\n"
      ],
      "metadata": {
        "id": "vY1j-S508mde"
      },
      "execution_count": 2,
      "outputs": []
    },
    {
      "cell_type": "code",
      "source": [
        "net = Net()\n",
        "print(net)"
      ],
      "metadata": {
        "colab": {
          "base_uri": "https://localhost:8080/"
        },
        "id": "ow0HTbjw9SO8",
        "outputId": "2c8cfa7f-196c-48a7-ca99-2696bf886348"
      },
      "execution_count": 3,
      "outputs": [
        {
          "output_type": "stream",
          "name": "stdout",
          "text": [
            "Net(\n",
            "  (fc1): Linear(in_features=784, out_features=200, bias=True)\n",
            "  (fc2): Linear(in_features=200, out_features=200, bias=True)\n",
            "  (fc3): Linear(in_features=200, out_features=10, bias=True)\n",
            ")\n"
          ]
        }
      ]
    },
    {
      "cell_type": "code",
      "source": [],
      "metadata": {
        "id": "6UyGMVf59VXT"
      },
      "execution_count": null,
      "outputs": []
    }
  ]
}